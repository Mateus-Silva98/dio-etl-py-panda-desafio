{
 "cells": [
  {
   "cell_type": "markdown",
   "metadata": {
    "colab_type": "text",
    "id": "K-N4ha5EG6ky"
   },
   "source": [
    "# **Curso Python Para Análise de dados** - *Fernanda Santos - Alterações Mateus Silva*"
   ]
  },
  {
   "cell_type": "markdown",
   "metadata": {
    "colab_type": "text",
    "id": "P5yjJd4Se7a8"
   },
   "source": [
    "# **Estrutura de dados**"
   ]
  },
  {
   "cell_type": "markdown",
   "metadata": {
    "colab_type": "text",
    "id": "0VKL1NCNhUfG"
   },
   "source": [
    "## **Listas**"
   ]
  },
  {
   "cell_type": "code",
   "execution_count": 1,
   "metadata": {
    "colab": {
     "base_uri": "https://localhost:8080/",
     "height": 34
    },
    "colab_type": "code",
    "id": "XHAFPHWmfFoB",
    "outputId": "5dbb8e99-09ba-40db-f848-f2395ded9c73"
   },
   "outputs": [
    {
     "data": {
      "text/plain": [
       "[1, 2, 3, 4]"
      ]
     },
     "execution_count": 1,
     "metadata": {},
     "output_type": "execute_result"
    }
   ],
   "source": [
    "#Criando uma lista chamada animais\n",
    "animais = [1,2,3,4]\n",
    "animais"
   ]
  },
  {
   "cell_type": "code",
   "execution_count": 2,
   "metadata": {
    "colab": {
     "base_uri": "https://localhost:8080/",
     "height": 34
    },
    "colab_type": "code",
    "id": "5v-w_ftdga0J",
    "outputId": "8ded31ab-a939-4f4d-caac-ef0a281bcfb6"
   },
   "outputs": [
    {
     "data": {
      "text/plain": [
       "['cachorro', 'gato', 'elefante', 12345, 6.5, 10]"
      ]
     },
     "execution_count": 2,
     "metadata": {},
     "output_type": "execute_result"
    }
   ],
   "source": [
    "#adicionado novos campos\n",
    "animais = [\"cachorro\", \"gato\",\"elefante\", 12345, 6.5,10]\n",
    "animais"
   ]
  },
  {
   "cell_type": "code",
   "execution_count": 3,
   "metadata": {
    "colab": {
     "base_uri": "https://localhost:8080/",
     "height": 34
    },
    "colab_type": "code",
    "id": "bJkOFrGfgrKR",
    "outputId": "273b6c48-3245-47d8-b8d4-e37865e52b21"
   },
   "outputs": [
    {
     "data": {
      "text/plain": [
       "'gato'"
      ]
     },
     "execution_count": 3,
     "metadata": {},
     "output_type": "execute_result"
    }
   ],
   "source": [
    "#Imprimindo o segundo elemento da lista\n",
    "animais[1]"
   ]
  },
  {
   "cell_type": "code",
   "execution_count": 4,
   "metadata": {
    "colab": {
     "base_uri": "https://localhost:8080/",
     "height": 34
    },
    "colab_type": "code",
    "id": "M-2mXu3mgvuS",
    "outputId": "81236f47-7507-4682-ee71-96d05ad1eb41"
   },
   "outputs": [
    {
     "data": {
      "text/plain": [
       "6.5"
      ]
     },
     "execution_count": 4,
     "metadata": {},
     "output_type": "execute_result"
    }
   ],
   "source": [
    "#Imprimindo o 5 elemento da lista\n",
    "animais[4]"
   ]
  },
  {
   "cell_type": "code",
   "execution_count": 5,
   "metadata": {
    "colab": {},
    "colab_type": "code",
    "id": "RDCW4hs_gxyT"
   },
   "outputs": [],
   "source": [
    "#Substituindo o segundo elemento da lista\n",
    "animais[1] = \"cavalo\""
   ]
  },
  {
   "cell_type": "code",
   "execution_count": 6,
   "metadata": {
    "colab": {
     "base_uri": "https://localhost:8080/",
     "height": 34
    },
    "colab_type": "code",
    "id": "QJrP-830gzvh",
    "outputId": "e69ecaaa-d6a3-48ee-e08a-33b3c2417ad8"
   },
   "outputs": [
    {
     "data": {
      "text/plain": [
       "['cachorro', 'cavalo', 'elefante', 12345, 6.5, 10]"
      ]
     },
     "execution_count": 6,
     "metadata": {},
     "output_type": "execute_result"
    }
   ],
   "source": [
    "#Demonstrando a substituição do elemento da lista\n",
    "animais"
   ]
  },
  {
   "cell_type": "code",
   "execution_count": 7,
   "metadata": {
    "colab": {},
    "colab_type": "code",
    "id": "3QFbAI6Og0wP"
   },
   "outputs": [],
   "source": [
    "#Removendo elefante da lista\n",
    "animais.remove(\"elefante\")"
   ]
  },
  {
   "cell_type": "code",
   "execution_count": 8,
   "metadata": {
    "colab": {
     "base_uri": "https://localhost:8080/",
     "height": 34
    },
    "colab_type": "code",
    "id": "b8g1bs42g31p",
    "outputId": "c4fa21bc-0375-4c4f-d645-1fa535ac3559"
   },
   "outputs": [
    {
     "data": {
      "text/plain": [
       "['cachorro', 'cavalo', 12345, 6.5, 10]"
      ]
     },
     "execution_count": 8,
     "metadata": {},
     "output_type": "execute_result"
    }
   ],
   "source": [
    "#Demonstrando a retirada do elefante da lista\n",
    "animais"
   ]
  },
  {
   "cell_type": "code",
   "execution_count": 10,
   "metadata": {
    "colab": {
     "base_uri": "https://localhost:8080/",
     "height": 34
    },
    "colab_type": "code",
    "id": "xfu4p_g3g7OS",
    "outputId": "1a511e7d-4616-4fe1-eaab-154d1b8a84d1"
   },
   "outputs": [
    {
     "data": {
      "text/plain": [
       "5"
      ]
     },
     "execution_count": 10,
     "metadata": {},
     "output_type": "execute_result"
    }
   ],
   "source": [
    "#Quantidade de itens\n",
    "len(animais)"
   ]
  },
  {
   "cell_type": "code",
   "execution_count": 13,
   "metadata": {
    "colab": {
     "base_uri": "https://localhost:8080/",
     "height": 34
    },
    "colab_type": "code",
    "id": "0HedcjoFg-5m",
    "outputId": "04ebec34-a75f-404a-b719-0ca710a24059"
   },
   "outputs": [
    {
     "data": {
      "text/plain": [
       "True"
      ]
     },
     "execution_count": 13,
     "metadata": {},
     "output_type": "execute_result"
    }
   ],
   "source": [
    "#Existe cachorro na lista de animais\n",
    "\"cachorro\" in animais"
   ]
  },
  {
   "cell_type": "code",
   "execution_count": 16,
   "metadata": {
    "colab": {},
    "colab_type": "code",
    "id": "VDZ6nZU2hDdf"
   },
   "outputs": [],
   "source": [
    "lista = [500, 30, 300, 80, 10,1000,1]"
   ]
  },
  {
   "cell_type": "code",
   "execution_count": 17,
   "metadata": {
    "colab": {
     "base_uri": "https://localhost:8080/",
     "height": 34
    },
    "colab_type": "code",
    "id": "VjrYRfHJhGhL",
    "outputId": "ad010fc6-b64f-4b11-ec1c-67ef22b93da0"
   },
   "outputs": [
    {
     "data": {
      "text/plain": [
       "1000"
      ]
     },
     "execution_count": 17,
     "metadata": {},
     "output_type": "execute_result"
    }
   ],
   "source": [
    "max(lista)"
   ]
  },
  {
   "cell_type": "code",
   "execution_count": 18,
   "metadata": {
    "colab": {
     "base_uri": "https://localhost:8080/",
     "height": 34
    },
    "colab_type": "code",
    "id": "jkeXKWQPhJRr",
    "outputId": "b8d73be6-aa7f-4129-bd57-9a8c294d5c77"
   },
   "outputs": [
    {
     "data": {
      "text/plain": [
       "1"
      ]
     },
     "execution_count": 18,
     "metadata": {},
     "output_type": "execute_result"
    }
   ],
   "source": [
    "min(lista)"
   ]
  },
  {
   "cell_type": "code",
   "execution_count": 21,
   "metadata": {
    "colab": {},
    "colab_type": "code",
    "id": "20T_hCwAhMsU"
   },
   "outputs": [],
   "source": [
    "#Adicionando uma array\n",
    "animais.append([\"leão\", \"Cachorro\"])"
   ]
  },
  {
   "cell_type": "code",
   "execution_count": 22,
   "metadata": {
    "colab": {
     "base_uri": "https://localhost:8080/",
     "height": 34
    },
    "colab_type": "code",
    "id": "WgWWMNJXhQdB",
    "outputId": "b2a0495e-b1ee-469d-bae5-e771c20e1efb"
   },
   "outputs": [
    {
     "data": {
      "text/plain": [
       "['cachorro',\n",
       " 'cavalo',\n",
       " 12345,\n",
       " 6.5,\n",
       " 10,\n",
       " ['leão', 'Cachorro'],\n",
       " ['leão', 'Cachorro']]"
      ]
     },
     "execution_count": 22,
     "metadata": {},
     "output_type": "execute_result"
    }
   ],
   "source": [
    "animais"
   ]
  },
  {
   "cell_type": "code",
   "execution_count": 27,
   "metadata": {
    "colab": {},
    "colab_type": "code",
    "id": "Cl-M69f5hSsD"
   },
   "outputs": [],
   "source": [
    "#Adicionado itens na lista\n",
    "animais.extend([\"cobra\", 6,10,1000])"
   ]
  },
  {
   "cell_type": "code",
   "execution_count": 28,
   "metadata": {
    "colab": {
     "base_uri": "https://localhost:8080/",
     "height": 34
    },
    "colab_type": "code",
    "id": "_scJEZbWMFBW",
    "outputId": "9ae58baf-1d1c-408d-9026-4a74e5a7f4a4"
   },
   "outputs": [
    {
     "data": {
      "text/plain": [
       "['cachorro',\n",
       " 'cavalo',\n",
       " 12345,\n",
       " 6.5,\n",
       " 10,\n",
       " ['leão', 'Cachorro'],\n",
       " ['leão', 'Cachorro'],\n",
       " 'cobra',\n",
       " 6,\n",
       " 'cobra',\n",
       " 6,\n",
       " 10,\n",
       " 1000,\n",
       " 'cobra',\n",
       " 6,\n",
       " 10,\n",
       " 1000]"
      ]
     },
     "execution_count": 28,
     "metadata": {},
     "output_type": "execute_result"
    }
   ],
   "source": [
    "animais"
   ]
  },
  {
   "cell_type": "code",
   "execution_count": 30,
   "metadata": {
    "colab": {
     "base_uri": "https://localhost:8080/",
     "height": 34
    },
    "colab_type": "code",
    "id": "kNn0DiyxheHC",
    "outputId": "b4a75f67-c2f5-4972-9ee1-17c6481c394a"
   },
   "outputs": [
    {
     "data": {
      "text/plain": [
       "1"
      ]
     },
     "execution_count": 30,
     "metadata": {},
     "output_type": "execute_result"
    }
   ],
   "source": [
    "animais.count(\"cachorro\")"
   ]
  },
  {
   "cell_type": "code",
   "execution_count": 31,
   "metadata": {
    "colab": {},
    "colab_type": "code",
    "id": "VgoLBevzhinC"
   },
   "outputs": [],
   "source": [
    "#Organizando a lista em forma crescente\n",
    "lista.sort()"
   ]
  },
  {
   "cell_type": "code",
   "execution_count": 33,
   "metadata": {
    "colab": {
     "base_uri": "https://localhost:8080/",
     "height": 34
    },
    "colab_type": "code",
    "id": "mPJTKqXMhrDB",
    "outputId": "aaa017a3-80a9-47ae-895a-63d6de385d18"
   },
   "outputs": [
    {
     "data": {
      "text/plain": [
       "[1, 10, 30, 80, 300, 500, 1000]"
      ]
     },
     "execution_count": 33,
     "metadata": {},
     "output_type": "execute_result"
    }
   ],
   "source": [
    "lista"
   ]
  },
  {
   "cell_type": "markdown",
   "metadata": {
    "colab_type": "text",
    "id": "VHmSI4EcoX-h"
   },
   "source": [
    "# **Tuplas**"
   ]
  },
  {
   "cell_type": "code",
   "execution_count": 34,
   "metadata": {
    "colab": {},
    "colab_type": "code",
    "id": "Qrv07mzWocDT"
   },
   "outputs": [],
   "source": [
    "#As tuplas usam parênteses como sintaxe\n",
    "tp = (\"Banana\", \"Maçã\",\"Laranja\",1, 10, 50)"
   ]
  },
  {
   "cell_type": "code",
   "execution_count": 35,
   "metadata": {
    "colab": {
     "base_uri": "https://localhost:8080/",
     "height": 34
    },
    "colab_type": "code",
    "id": "r7ZMMLn8pt7R",
    "outputId": "d2ad4094-b8d6-489f-a605-36c4b569bd8b"
   },
   "outputs": [
    {
     "data": {
      "text/plain": [
       "'Maçã'"
      ]
     },
     "execution_count": 35,
     "metadata": {},
     "output_type": "execute_result"
    }
   ],
   "source": [
    "#Retornando o segundo elemento\n",
    "tp[1]"
   ]
  },
  {
   "cell_type": "code",
   "execution_count": 36,
   "metadata": {
    "colab": {
     "base_uri": "https://localhost:8080/",
     "height": 180
    },
    "colab_type": "code",
    "id": "jKRnh-DbpzBj",
    "outputId": "04b2babe-4507-4279-8cfc-64e62f3c20cf"
   },
   "outputs": [
    {
     "ename": "TypeError",
     "evalue": "'tuple' object does not support item assignment",
     "output_type": "error",
     "traceback": [
      "\u001b[1;31m---------------------------------------------------------------------------\u001b[0m",
      "\u001b[1;31mTypeError\u001b[0m                                 Traceback (most recent call last)",
      "\u001b[1;32m<ipython-input-36-61d5b025085b>\u001b[0m in \u001b[0;36m<module>\u001b[1;34m\u001b[0m\n\u001b[0;32m      1\u001b[0m \u001b[1;31m#Diferente das listas as tuplas são imutáveis, o que quer dizer que não podemos alterar os seus elementos\u001b[0m\u001b[1;33m\u001b[0m\u001b[1;33m\u001b[0m\u001b[1;33m\u001b[0m\u001b[0m\n\u001b[0;32m      2\u001b[0m \u001b[1;31m#Professora testou a exlusão demosntrando a dif de lista\u001b[0m\u001b[1;33m\u001b[0m\u001b[1;33m\u001b[0m\u001b[1;33m\u001b[0m\u001b[0m\n\u001b[1;32m----> 3\u001b[1;33m \u001b[0mtp\u001b[0m\u001b[1;33m[\u001b[0m\u001b[1;36m0\u001b[0m\u001b[1;33m]\u001b[0m \u001b[1;33m=\u001b[0m \u001b[1;34m\"Laranja\"\u001b[0m\u001b[1;33m\u001b[0m\u001b[1;33m\u001b[0m\u001b[0m\n\u001b[0m",
      "\u001b[1;31mTypeError\u001b[0m: 'tuple' object does not support item assignment"
     ]
    }
   ],
   "source": [
    "#Diferente das listas as tuplas são imutáveis, o que quer dizer que não podemos alterar os seus elementos \n",
    "#Professora testou a exlusão demosntrando a dif de lista\n",
    "tp[0] = \"Laranja\""
   ]
  },
  {
   "cell_type": "code",
   "execution_count": 37,
   "metadata": {
    "colab": {
     "base_uri": "https://localhost:8080/",
     "height": 34
    },
    "colab_type": "code",
    "id": "a-KaNhePE0nb",
    "outputId": "ddf3ebbd-355a-467e-d238-0c9601e07c61"
   },
   "outputs": [
    {
     "data": {
      "text/plain": [
       "1"
      ]
     },
     "execution_count": 37,
     "metadata": {},
     "output_type": "execute_result"
    }
   ],
   "source": [
    "tp.count(\"Laranja\")"
   ]
  },
  {
   "cell_type": "code",
   "execution_count": 38,
   "metadata": {
    "colab": {
     "base_uri": "https://localhost:8080/",
     "height": 34
    },
    "colab_type": "code",
    "id": "ntXTi7MaFAX7",
    "outputId": "595f3409-7948-4919-cff4-787d350423b7"
   },
   "outputs": [
    {
     "data": {
      "text/plain": [
       "('Maçã', 'Laranja', 1)"
      ]
     },
     "execution_count": 38,
     "metadata": {},
     "output_type": "execute_result"
    }
   ],
   "source": [
    "tp[1:4]"
   ]
  },
  {
   "cell_type": "markdown",
   "metadata": {
    "colab_type": "text",
    "id": "Q0Ltz4kcFQps"
   },
   "source": [
    "# **Dicionários**"
   ]
  },
  {
   "cell_type": "code",
   "execution_count": 39,
   "metadata": {
    "colab": {},
    "colab_type": "code",
    "id": "43OFknPUFO68"
   },
   "outputs": [],
   "source": [
    "#Para criar um dicionário utilizamos as {}\n",
    "dc = {\"Maçã\":30, \"Banana\":10, \"Laranja\":15, \"Uva\":5, \"Tangerina\":10} #Dicionários trabalham com o condeito chave e valor"
   ]
  },
  {
   "cell_type": "code",
   "execution_count": 40,
   "metadata": {
    "colab": {
     "base_uri": "https://localhost:8080/",
     "height": 34
    },
    "colab_type": "code",
    "id": "dCH9PefxGBdZ",
    "outputId": "4017b350-db9b-4404-8f2b-1d41d9e983bf"
   },
   "outputs": [
    {
     "data": {
      "text/plain": [
       "{'Maçã': 30, 'Banana': 10, 'Laranja': 15, 'Uva': 5, 'Tangerina': 10}"
      ]
     },
     "execution_count": 40,
     "metadata": {},
     "output_type": "execute_result"
    }
   ],
   "source": [
    "#Teste com os novos campos\n",
    "dc"
   ]
  },
  {
   "cell_type": "code",
   "execution_count": 41,
   "metadata": {
    "colab": {
     "base_uri": "https://localhost:8080/",
     "height": 34
    },
    "colab_type": "code",
    "id": "iyGxfz72FxNa",
    "outputId": "4e85b169-8639-4402-ddcf-5a954e6acd9f"
   },
   "outputs": [
    {
     "data": {
      "text/plain": [
       "10"
      ]
     },
     "execution_count": 41,
     "metadata": {},
     "output_type": "execute_result"
    }
   ],
   "source": [
    "#Acessando o valor de um dicionário através da chave\n",
    "dc[\"Tangerina\"]"
   ]
  },
  {
   "cell_type": "code",
   "execution_count": 42,
   "metadata": {
    "colab": {
     "base_uri": "https://localhost:8080/",
     "height": 34
    },
    "colab_type": "code",
    "id": "6WwkohdpF5Cq",
    "outputId": "053f88f7-b499-47d5-c741-25f0a394e2c8"
   },
   "outputs": [
    {
     "data": {
      "text/plain": [
       "{'Maçã': 30, 'Banana': 10, 'Laranja': 15, 'Uva': 5, 'Tangerina': 100}"
      ]
     },
     "execution_count": 42,
     "metadata": {},
     "output_type": "execute_result"
    }
   ],
   "source": [
    "#Atualizando o valor da Tangerina\n",
    "dc[\"Tangerina\"] = 100\n",
    "dc"
   ]
  },
  {
   "cell_type": "code",
   "execution_count": 46,
   "metadata": {
    "colab": {
     "base_uri": "https://localhost:8080/",
     "height": 34
    },
    "colab_type": "code",
    "id": "_50MV-XaGFae",
    "outputId": "53879989-4805-4017-f5a9-9294ba60d86a"
   },
   "outputs": [
    {
     "data": {
      "text/plain": [
       "dict_keys(['Maçã', 'Banana', 'Laranja', 'Uva', 'Tangerina'])"
      ]
     },
     "execution_count": 46,
     "metadata": {},
     "output_type": "execute_result"
    }
   ],
   "source": [
    "#Retornando todas as chaves do dicionário\n",
    "#Como se fosse as colunas\n",
    "\n",
    "dc.keys()"
   ]
  },
  {
   "cell_type": "code",
   "execution_count": 47,
   "metadata": {
    "colab": {
     "base_uri": "https://localhost:8080/",
     "height": 34
    },
    "colab_type": "code",
    "id": "AHLXfikMGRS4",
    "outputId": "1beaa637-f1dd-4122-80a5-5d317c993943"
   },
   "outputs": [
    {
     "data": {
      "text/plain": [
       "dict_values([30, 10, 15, 5, 100])"
      ]
     },
     "execution_count": 47,
     "metadata": {},
     "output_type": "execute_result"
    }
   ],
   "source": [
    "#Retornando os valores do dicionário\n",
    "#Como se fosse as linhas inputadas os valores\n",
    "dc.values()"
   ]
  },
  {
   "cell_type": "code",
   "execution_count": 48,
   "metadata": {
    "colab": {
     "base_uri": "https://localhost:8080/",
     "height": 34
    },
    "colab_type": "code",
    "id": "co2yQ4IrGX8n",
    "outputId": "f8f5dc72-2f3d-433b-c54b-cea91173e306"
   },
   "outputs": [
    {
     "data": {
      "text/plain": [
       "30"
      ]
     },
     "execution_count": 48,
     "metadata": {},
     "output_type": "execute_result"
    }
   ],
   "source": [
    "#Verificando se já existe uma chave no dicionário e caso não exista inserir\n",
    "dc.setdefault(\"Limão\", 30)"
   ]
  },
  {
   "cell_type": "code",
   "execution_count": 50,
   "metadata": {
    "colab": {
     "base_uri": "https://localhost:8080/",
     "height": 34
    },
    "colab_type": "code",
    "id": "M9_v4jAZGyz6",
    "outputId": "e8754510-9f3c-4560-c4c1-133cbc06cf9b"
   },
   "outputs": [
    {
     "data": {
      "text/plain": [
       "{'Maçã': 30,\n",
       " 'Banana': 10,\n",
       " 'Laranja': 15,\n",
       " 'Uva': 5,\n",
       " 'Tangerina': 100,\n",
       " 'Limão': 30}"
      ]
     },
     "execution_count": 50,
     "metadata": {},
     "output_type": "execute_result"
    }
   ],
   "source": [
    "#Listar chaves e valores\n",
    "dc"
   ]
  },
  {
   "cell_type": "code",
   "execution_count": 0,
   "metadata": {
    "colab": {},
    "colab_type": "code",
    "id": "l2-4mE1LG0CC"
   },
   "outputs": [],
   "source": []
  }
 ],
 "metadata": {
  "colab": {
   "name": "Estrutura_de_dados.ipynb",
   "provenance": []
  },
  "kernelspec": {
   "display_name": "Python 3",
   "language": "python",
   "name": "python3"
  },
  "language_info": {
   "codemirror_mode": {
    "name": "ipython",
    "version": 3
   },
   "file_extension": ".py",
   "mimetype": "text/x-python",
   "name": "python",
   "nbconvert_exporter": "python",
   "pygments_lexer": "ipython3",
   "version": "3.8.8"
  }
 },
 "nbformat": 4,
 "nbformat_minor": 1
}
